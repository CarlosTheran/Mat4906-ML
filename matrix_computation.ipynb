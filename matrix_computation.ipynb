{
 "cells": [
  {
   "cell_type": "code",
   "execution_count": 1,
   "source": [
    "# import numpy library\r\n",
    "import numpy as np"
   ],
   "outputs": [],
   "metadata": {}
  },
  {
   "cell_type": "code",
   "execution_count": 2,
   "source": [
    "# Create two square matrix\r\n",
    "x = np.array([[1,5,6],[8,5,9],[1,0,3]])\r\n",
    "z = np.array([[12,20,-3],[5,-8,5],[6,9,17]]) \r\n",
    "print(x,'\\n')\r\n",
    "print(z)"
   ],
   "outputs": [
    {
     "output_type": "stream",
     "name": "stdout",
     "text": [
      "[[1 5 6]\n",
      " [8 5 9]\n",
      " [1 0 3]] \n",
      "\n",
      "[[12 20 -3]\n",
      " [ 5 -8  5]\n",
      " [ 6  9 17]]\n"
     ]
    }
   ],
   "metadata": {}
  },
  {
   "cell_type": "code",
   "execution_count": 3,
   "source": [
    "#Add and sustract the matrices X and Z\r\n",
    "r_added = x.__add__(z)\r\n",
    "r_sustract = x.__sub__(z)\r\n",
    "print(r_added,'\\n')\r\n",
    "print(r_sustract) "
   ],
   "outputs": [
    {
     "output_type": "stream",
     "name": "stdout",
     "text": [
      "[[13 25  3]\n",
      " [13 -3 14]\n",
      " [ 7  9 20]] \n",
      "\n",
      "[[-11 -15   9]\n",
      " [  3  13   4]\n",
      " [ -5  -9 -14]]\n"
     ]
    }
   ],
   "metadata": {}
  },
  {
   "cell_type": "code",
   "execution_count": 4,
   "source": [
    "#pieceswise multiplication and Multiplication of two matrices\r\n",
    "r_piecewise = x.__mul__(z)\r\n",
    "r_mul = x.__matmul__(z)\r\n",
    "print(r_piecewise,'\\n')\r\n",
    "print(r_mul)"
   ],
   "outputs": [
    {
     "output_type": "stream",
     "name": "stdout",
     "text": [
      "[[ 12 100 -18]\n",
      " [ 40 -40  45]\n",
      " [  6   0  51]] \n",
      "\n",
      "[[ 73  34 124]\n",
      " [175 201 154]\n",
      " [ 30  47  48]]\n"
     ]
    }
   ],
   "metadata": {}
  },
  {
   "cell_type": "code",
   "execution_count": null,
   "source": [],
   "outputs": [],
   "metadata": {}
  }
 ],
 "metadata": {
  "orig_nbformat": 4,
  "language_info": {
   "name": "python",
   "version": "3.9.2",
   "mimetype": "text/x-python",
   "codemirror_mode": {
    "name": "ipython",
    "version": 3
   },
   "pygments_lexer": "ipython3",
   "nbconvert_exporter": "python",
   "file_extension": ".py"
  },
  "kernelspec": {
   "name": "python3",
   "display_name": "Python 3.9.2 64-bit"
  },
  "interpreter": {
   "hash": "321a562c32c1ef0f4d1bce6724f96cbf5562b75820608d2935414fe72bdf9c83"
  }
 },
 "nbformat": 4,
 "nbformat_minor": 2
}