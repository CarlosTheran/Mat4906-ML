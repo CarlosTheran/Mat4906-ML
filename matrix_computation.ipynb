{
 "cells": [
  {
   "cell_type": "code",
   "execution_count": 1,
   "source": [
    "# import numpy library\r\n",
    "import numpy as np"
   ],
   "outputs": [],
   "metadata": {}
  },
  {
   "cell_type": "code",
   "execution_count": 2,
   "source": [
    "# Create two square matrix\r\n",
    "x = np.array([[1,5,6],[8,5,9],[1,0,3]])\r\n",
    "z = np.array([[12,20,-3],[5,-8,5],[6,9,17]]) \r\n",
    "print(x,'\\n')\r\n",
    "print(z)"
   ],
   "outputs": [
    {
     "output_type": "stream",
     "name": "stdout",
     "text": [
      "[[1 5 6]\n",
      " [8 5 9]\n",
      " [1 0 3]] \n",
      "\n",
      "[[12 20 -3]\n",
      " [ 5 -8  5]\n",
      " [ 6  9 17]]\n"
     ]
    }
   ],
   "metadata": {}
  },
  {
   "cell_type": "code",
   "execution_count": 3,
   "source": [
    "#Add and sustract the matrices X and Z\r\n",
    "r_added = x.__add__(z)\r\n",
    "r_sustract = x.__sub__(z)\r\n",
    "print(r_added,'\\n')\r\n",
    "print(r_sustract) "
   ],
   "outputs": [
    {
     "output_type": "stream",
     "name": "stdout",
     "text": [
      "[[13 25  3]\n",
      " [13 -3 14]\n",
      " [ 7  9 20]] \n",
      "\n",
      "[[-11 -15   9]\n",
      " [  3  13   4]\n",
      " [ -5  -9 -14]]\n"
     ]
    }
   ],
   "metadata": {}
  },
  {
   "cell_type": "code",
   "execution_count": 4,
   "source": [
    "#pieceswise multiplication and Multiplication of two matrices\r\n",
    "r_piecewise = x.__mul__(z)\r\n",
    "r_mul = x.__matmul__(z)\r\n",
    "print(r_piecewise,'\\n')\r\n",
    "print(r_mul)"
   ],
   "outputs": [
    {
     "output_type": "stream",
     "name": "stdout",
     "text": [
      "[[ 12 100 -18]\n",
      " [ 40 -40  45]\n",
      " [  6   0  51]] \n",
      "\n",
      "[[ 73  34 124]\n",
      " [175 201 154]\n",
      " [ 30  47  48]]\n"
     ]
    }
   ],
   "metadata": {}
  },
  {
   "cell_type": "code",
   "execution_count": 5,
   "source": [
    "# 1x+1y = 2 and 10x+35y= 30\r\n",
    "A = np.array([[1,1],[10,35]])\r\n",
    "b = np.array([[2],[30]])"
   ],
   "outputs": [],
   "metadata": {}
  },
  {
   "cell_type": "code",
   "execution_count": 6,
   "source": [
    "# Verify the size of matrix A and the vector b\r\n",
    "print('dim. of matrix A = ',A.shape)\r\n",
    "print('dim. of vecto b = ',b.shape )"
   ],
   "outputs": [
    {
     "output_type": "stream",
     "name": "stdout",
     "text": [
      "dim. of matrix A =  (2, 2)\n",
      "dim. of vecto b =  (2, 1)\n"
     ]
    }
   ],
   "metadata": {}
  },
  {
   "cell_type": "code",
   "execution_count": 7,
   "source": [
    "# find the det(A) !=0\r\n",
    "np.linalg.det(A)"
   ],
   "outputs": [
    {
     "output_type": "execute_result",
     "data": {
      "text/plain": [
       "25.000000000000007"
      ]
     },
     "metadata": {},
     "execution_count": 7
    }
   ],
   "metadata": {}
  },
  {
   "cell_type": "code",
   "execution_count": 8,
   "source": [
    "# lets find the inverse of A\r\n",
    "inv_A = np.linalg.inv(A)\r\n",
    "print(inv_A)"
   ],
   "outputs": [
    {
     "output_type": "stream",
     "name": "stdout",
     "text": [
      "[[ 1.4  -0.04]\n",
      " [-0.4   0.04]]\n"
     ]
    }
   ],
   "metadata": {}
  },
  {
   "cell_type": "code",
   "execution_count": 10,
   "source": [
    "# finding the solution\r\n",
    "sol = inv_A.dot(b)\r\n",
    "print(sol)"
   ],
   "outputs": [
    {
     "output_type": "stream",
     "name": "stdout",
     "text": [
      "[[1.6]\n",
      " [0.4]]\n"
     ]
    }
   ],
   "metadata": {}
  },
  {
   "cell_type": "code",
   "execution_count": 14,
   "source": [
    "# mix integer indexing with slice indexing\r\n",
    "a = np.array([[1,2,3,4], [5,6,7,8], [9,10,11,12]])\r\n",
    "print(a)\r\n",
    "row_r1 = a[0, :]    # Rank 1 view of the second row of a\r\n",
    "row_r2 = a[0:2, :]  # Rank 2 view of the second row of a\r\n",
    "print(row_r1, row_r1.shape)\r\n",
    "print(row_r2, row_r2.shape) "
   ],
   "outputs": [
    {
     "output_type": "stream",
     "name": "stdout",
     "text": [
      "[[ 1  2  3  4]\n",
      " [ 5  6  7  8]\n",
      " [ 9 10 11 12]]\n",
      "[1 2 3 4] (4,)\n",
      "[[1 2 3 4]\n",
      " [5 6 7 8]] (2, 4)\n"
     ]
    }
   ],
   "metadata": {}
  },
  {
   "cell_type": "code",
   "execution_count": 15,
   "source": [
    "# Working with matplotlib\r\n",
    "import matplotlib.pyplot as plt\r\n",
    "plt.plot([1, 2, 3, 4])\r\n",
    "plt.ylabel('some numbers')\r\n",
    "plt.show()"
   ],
   "outputs": [
    {
     "output_type": "display_data",
     "data": {
      "text/plain": [
       "<Figure size 432x288 with 1 Axes>"
      ],
      "image/png": "[encoded data removed]"
     },
     "metadata": {
      "needs_background": "light"
     }
    }
   ],
   "metadata": {}
  },
  {
   "cell_type": "code",
   "execution_count": 19,
   "source": [
    "plt.plot([1, 2, 3, 4], [1, 4, 9, 16], 'b*')\r\n",
    "plt.axis([0, 6, 0, 20])\r\n",
    "plt.show()"
   ],
   "outputs": [
    {
     "output_type": "display_data",
     "data": {
      "text/plain": [
       "<Figure size 432x288 with 1 Axes>"
      ],
      "image/png": "[encoded data removed]"
     },
     "metadata": {
      "needs_background": "light"
     }
    }
   ],
   "metadata": {}
  },
  {
   "cell_type": "code",
   "execution_count": 20,
   "source": [
    "# evenly sampled time at 200ms intervals\r\n",
    "t = np.arange(0., 5., 0.2)\r\n",
    "# red dashes, blue squares and green triangles\r\n",
    "plt.plot(t, t, 'r--', t, t**2, 'bs', t, t**3, 'g^')\r\n",
    "plt.show()"
   ],
   "outputs": [
    {
     "output_type": "display_data",
     "data": {
      "text/plain": [
       "<Figure size 432x288 with 1 Axes>"
      ],
      "image/png": "[encoded data removed]"
     },
     "metadata": {
      "needs_background": "light"
     }
    }
   ],
   "metadata": {}
  },
  {
   "cell_type": "code",
   "execution_count": 21,
   "source": [
    "# Plotting with keyword strings\r\n",
    "def f(t):\r\n",
    "    return np.exp(-t) * np.cos(2*np.pi*t)\r\n",
    "t1 = np.arange(0.0, 5.0, 0.1)\r\n",
    "t2 = np.arange(0.0, 5.0, 0.02)\r\n",
    "plt.figure()\r\n",
    "plt.subplot(211)\r\n",
    "plt.plot(t1, f(t1), 'bo', t2, f(t2), 'k')\r\n",
    "plt.subplot(212)\r\n",
    "plt.plot(t2, np.cos(2*np.pi*t2), 'r--')\r\n",
    "plt.show()"
   ],
   "outputs": [
    {
     "output_type": "display_data",
     "data": {
      "text/plain": [
       "<Figure size 432x288 with 2 Axes>"
      ],
      "image/png": "[encoded data removed]"
     },
     "metadata": {
      "needs_background": "light"
     }
    }
   ],
   "metadata": {}
  },
  {
   "cell_type": "code",
   "execution_count": 26,
   "source": [
    "#Plotting with categorical variables\r\n",
    "names = ['group_a', 'group_b', 'group_c']\r\n",
    "values = [1, 10, 100]\r\n",
    "plt.figure(figsize=(9, 5))\r\n",
    "plt.subplot(131)\r\n",
    "plt.bar(names, values)\r\n",
    "plt.subplot(132)\r\n",
    "plt.scatter(names, values)\r\n",
    "plt.subplot(133)\r\n",
    "plt.plot(names, values)\r\n",
    "plt.suptitle('Categorical Plotting')\r\n",
    "plt.show()"
   ],
   "outputs": [
    {
     "output_type": "display_data",
     "data": {
      "text/plain": [
       "<Figure size 648x360 with 3 Axes>"
      ],
      "image/png": "[encoded data removed]"
     },
     "metadata": {
      "needs_background": "light"
     }
    }
   ],
   "metadata": {}
  }
 ],
 "metadata": {
  "orig_nbformat": 4,
  "language_info": {
   "name": "python",
   "version": "3.9.2",
   "mimetype": "text/x-python",
   "codemirror_mode": {
    "name": "ipython",
    "version": 3
   },
   "pygments_lexer": "ipython3",
   "nbconvert_exporter": "python",
   "file_extension": ".py"
  },
  "kernelspec": {
   "name": "python3",
   "display_name": "Python 3.9.2 64-bit"
  },
  "interpreter": {
   "hash": "321a562c32c1ef0f4d1bce6724f96cbf5562b75820608d2935414fe72bdf9c83"
  }
 },
 "nbformat": 4,
 "nbformat_minor": 2
}