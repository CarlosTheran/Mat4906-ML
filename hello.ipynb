{
 "cells": [
  {
   "cell_type": "code",
   "execution_count": 2,
   "source": [
    "# Integers\r\n",
    "x = 1\r\n",
    "print(x)\r\n",
    "x = 10000000000000000000000000000000\r\n",
    "print(x)\r\n"
   ],
   "outputs": [
    {
     "output_type": "stream",
     "name": "stdout",
     "text": [
      "1\n",
      "10000000000000000000000000000000\n"
     ]
    }
   ],
   "metadata": {}
  },
  {
   "cell_type": "code",
   "execution_count": 3,
   "source": [
    "print(type(x))"
   ],
   "outputs": [
    {
     "output_type": "stream",
     "name": "stdout",
     "text": [
      "<class 'int'>\n"
     ]
    }
   ],
   "metadata": {}
  },
  {
   "cell_type": "code",
   "execution_count": 4,
   "source": [
    "age = int(input('Please enter you age: '))\r\n",
    "print(age)\r\n",
    "print(type(age))"
   ],
   "outputs": [
    {
     "output_type": "stream",
     "name": "stdout",
     "text": [
      "25\n",
      "<class 'int'>\n"
     ]
    }
   ],
   "metadata": {}
  },
  {
   "cell_type": "code",
   "execution_count": 5,
   "source": [
    "# floating points\r\n",
    "exchange_rate = 1.83\r\n",
    "print(exchange_rate)\r\n",
    "print(type(exchange_rate))"
   ],
   "outputs": [
    {
     "output_type": "stream",
     "name": "stdout",
     "text": [
      "1.83\n",
      "<class 'float'>\n"
     ]
    }
   ],
   "metadata": {}
  },
  {
   "cell_type": "code",
   "execution_count": 7,
   "source": [
    "# Converting an input string into a floaring point number\r\n",
    "exchange_rate = float(input('Please enter the exchange rate to use: '))\r\n",
    "print(exchange_rate)\r\n",
    "print(type(exchange_rate))"
   ],
   "outputs": [
    {
     "output_type": "stream",
     "name": "stdout",
     "text": [
      "3.6\n",
      "<class 'float'>\n"
     ]
    }
   ],
   "metadata": {}
  },
  {
   "cell_type": "code",
   "execution_count": 9,
   "source": [
    "# Boolean value\r\n",
    "all_ok = True\r\n",
    "print(all_ok)\r\n",
    "all_ok = False\r\n",
    "print(all_ok)"
   ],
   "outputs": [
    {
     "output_type": "stream",
     "name": "stdout",
     "text": [
      "True\n",
      "False\n"
     ]
    }
   ],
   "metadata": {}
  },
  {
   "cell_type": "code",
   "execution_count": 14,
   "source": [
    "# Convert string into Boolean\r\n",
    "status = bool(input('Ok to proceed: '))\r\n",
    "print(status)\r\n",
    "print(type(status))"
   ],
   "outputs": [
    {
     "output_type": "stream",
     "name": "stdout",
     "text": [
      "False\n",
      "<class 'bool'>\n"
     ]
    }
   ],
   "metadata": {}
  },
  {
   "cell_type": "code",
   "execution_count": 19,
   "source": [
    "home = 10\r\n",
    "away = 15\r\n",
    "print(home + away)\r\n",
    "print(type(home+away))\r\n",
    "print(10*4)\r\n",
    "goals_for = 10\r\n",
    "goals_against = 7\r\n",
    "print(goals_for-goals_against)"
   ],
   "outputs": [
    {
     "output_type": "stream",
     "name": "stdout",
     "text": [
      "25\n",
      "<class 'int'>\n",
      "40\n",
      "3\n"
     ]
    }
   ],
   "metadata": {}
  },
  {
   "cell_type": "code",
   "execution_count": 26,
   "source": [
    "print(11/3)\r\n",
    "print(11//3)\r\n",
    "print(4*2)\r\n",
    "print(4**2)\r\n"
   ],
   "outputs": [
    {
     "output_type": "stream",
     "name": "stdout",
     "text": [
      "3.6666666666666665\n",
      "3\n",
      "8\n",
      "16\n"
     ]
    }
   ],
   "metadata": {}
  },
  {
   "cell_type": "code",
   "execution_count": 28,
   "source": [
    "num = int(input(\"Enter a number: \"))\r\n",
    "if num < 0:\r\n",
    "  print(num,\"is a negative value\")"
   ],
   "outputs": [],
   "metadata": {}
  },
  {
   "cell_type": "code",
   "execution_count": 29,
   "source": [
    "num = int(input(\"Enter a number: \"))\r\n",
    "if num > 0:\r\n",
    "    print(num, 'is positive')\r\n",
    "    print(num, 'square is', num*num)\r\n",
    "print('Bye')    "
   ],
   "outputs": [
    {
     "output_type": "stream",
     "name": "stdout",
     "text": [
      "5 is positive\n",
      "5 square is 25\n",
      "Bye\n"
     ]
    }
   ],
   "metadata": {}
  },
  {
   "cell_type": "code",
   "execution_count": 35,
   "source": [
    "savings = float(input(\"Enter how much you have in savings: \"))\r\n",
    "if savings == 0:\r\n",
    "   print(\"Sorry no savings\")\r\n",
    "elif savings < 500:\r\n",
    "   print(\"Well done\")\r\n",
    "elif savings < 1000:\r\n",
    "   print(\"Thats a tidy sum\")\r\n",
    "elif savings < 10000:\r\n",
    "   print(\"Welcome Sir!!!\")   \r\n",
    "else:\r\n",
    "   print('Thank you')       "
   ],
   "outputs": [
    {
     "output_type": "stream",
     "name": "stdout",
     "text": [
      "Thank you\n"
     ]
    }
   ],
   "metadata": {}
  },
  {
   "cell_type": "code",
   "execution_count": 37,
   "source": [
    "age = 30\r\n",
    "status = None\r\n",
    "if (age>12) and (age<20):\r\n",
    "    status = 'teenager'\r\n",
    "else:\r\n",
    "    status = 'not teenager'\r\n",
    "print(status)        "
   ],
   "outputs": [
    {
     "output_type": "stream",
     "name": "stdout",
     "text": [
      "not teenager\n"
     ]
    }
   ],
   "metadata": {}
  },
  {
   "cell_type": "code",
   "execution_count": 40,
   "source": [
    "# Nesting if Statements\r\n",
    "snowing = True\r\n",
    "temp = 15\r\n",
    "if temp < 65:\r\n",
    "    print('It is freezing')\r\n",
    "    if snowing:\r\n",
    "       print('Put on boots')\r\n",
    "       print('Time for hot chocolate')\r\n",
    "print('Bye')        "
   ],
   "outputs": [
    {
     "output_type": "stream",
     "name": "stdout",
     "text": [
      "It is freezing\n",
      "Put on boots\n",
      "Time for hot chocolate\n",
      "Bye\n"
     ]
    }
   ],
   "metadata": {}
  },
  {
   "cell_type": "code",
   "execution_count": 41,
   "source": [
    "count = 0\r\n",
    "while count < 10:\r\n",
    "    print(count,' ', end=' ')\r\n",
    "    count +=1\r\n",
    "    #count = count + 1\r\n",
    "print('Done')    "
   ],
   "outputs": [
    {
     "output_type": "stream",
     "name": "stdout",
     "text": [
      "0   1   2   3   4   5   6   7   8   9   Done\n"
     ]
    }
   ],
   "metadata": {}
  },
  {
   "cell_type": "code",
   "execution_count": 42,
   "source": [
    "print('Print out values in a range')\r\n",
    "for i in range(0,10):\r\n",
    "    print(i,' ', end=' ')\r\n",
    "print('done')    "
   ],
   "outputs": [
    {
     "output_type": "stream",
     "name": "stdout",
     "text": [
      "Print out values in a range\n",
      "0   1   2   3   4   5   6   7   8   9   done\n"
     ]
    }
   ],
   "metadata": {}
  },
  {
   "cell_type": "code",
   "execution_count": 45,
   "source": [
    "# Break Loop Statements \r\n",
    "print('Only print code if all interation competed')\r\n",
    "num = int(input('Enter a number to check for: '))\r\n",
    "for i in range(0,6):\r\n",
    "    if i==num:\r\n",
    "        break\r\n",
    "    print(i, ' ', end=' ')\r\n",
    "print('done')    \r\n",
    "\r\n"
   ],
   "outputs": [
    {
     "output_type": "stream",
     "name": "stdout",
     "text": [
      "Only print code if all interation competed\n",
      "0   1   2   3   4   5   done\n"
     ]
    }
   ],
   "metadata": {}
  },
  {
   "cell_type": "code",
   "execution_count": null,
   "source": [
    "# doing changes\r\n",
    "print('Only print code if all interation competed')\r\n",
    "num = int(input('Enter a number to check for: '))\r\n",
    "for i in range(0,6):\r\n",
    "    if i==num:\r\n",
    "        break\r\n",
    "    print(i, ' ', end=' ')\r\n",
    "print('done')   "
   ],
   "outputs": [],
   "metadata": {}
  }
 ],
 "metadata": {
  "orig_nbformat": 4,
  "language_info": {
   "name": "python",
   "version": "3.9.2",
   "mimetype": "text/x-python",
   "codemirror_mode": {
    "name": "ipython",
    "version": 3
   },
   "pygments_lexer": "ipython3",
   "nbconvert_exporter": "python",
   "file_extension": ".py"
  },
  "kernelspec": {
   "name": "python3",
   "display_name": "Python 3.9.2 64-bit"
  },
  "interpreter": {
   "hash": "321a562c32c1ef0f4d1bce6724f96cbf5562b75820608d2935414fe72bdf9c83"
  }
 },
 "nbformat": 4,
 "nbformat_minor": 2
}