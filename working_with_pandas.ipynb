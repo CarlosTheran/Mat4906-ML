{
 "cells": [
  {
   "cell_type": "code",
   "execution_count": 1,
   "source": [
    "# import the pandas library and aliansing as pd\r\n",
    "import pandas as pd\r\n",
    "df = pd.DataFrame()\r\n",
    "print(df) "
   ],
   "outputs": [
    {
     "output_type": "stream",
     "name": "stdout",
     "text": [
      "Empty DataFrame\n",
      "Columns: []\n",
      "Index: []\n"
     ]
    }
   ],
   "metadata": {}
  },
  {
   "cell_type": "code",
   "execution_count": 3,
   "source": [
    "data = [25,36,3,4,5]\r\n",
    "df = pd.DataFrame(data)\r\n",
    "print(df)"
   ],
   "outputs": [
    {
     "output_type": "stream",
     "name": "stdout",
     "text": [
      "    0\n",
      "0  25\n",
      "1  36\n",
      "2   3\n",
      "3   4\n",
      "4   5\n"
     ]
    }
   ],
   "metadata": {}
  },
  {
   "cell_type": "code",
   "execution_count": 5,
   "source": [
    "data = [['Alex',10],['Bob',12],['Clarke',13]]\r\n",
    "df = pd.DataFrame(data,columns=['Name','Age'])\r\n",
    "print(df)\r\n",
    "df2 = pd.DataFrame(data,columns=['Name','Age'],dtype=float)\r\n",
    "print(df2)\r\n"
   ],
   "outputs": [
    {
     "output_type": "stream",
     "name": "stdout",
     "text": [
      "     Name  Age\n",
      "0    Alex   10\n",
      "1     Bob   12\n",
      "2  Clarke   13\n",
      "     Name   Age\n",
      "0    Alex  10.0\n",
      "1     Bob  12.0\n",
      "2  Clarke  13.0\n"
     ]
    }
   ],
   "metadata": {}
  },
  {
   "cell_type": "code",
   "execution_count": 6,
   "source": [
    "# Create a DataFrame from Dict of ndarrays/List\r\n",
    "data = {'Name':['Tom','Jack','Steve','Ricky'],'Age':[28,34,29,42]}\r\n",
    "df = pd.DataFrame(data)\r\n",
    "print(df)"
   ],
   "outputs": [
    {
     "output_type": "stream",
     "name": "stdout",
     "text": [
      "    Name  Age\n",
      "0    Tom   28\n",
      "1   Jack   34\n",
      "2  Steve   29\n",
      "3  Ricky   42\n"
     ]
    }
   ],
   "metadata": {}
  },
  {
   "cell_type": "code",
   "execution_count": 8,
   "source": [
    "data = [{'a':1,'b':2},{'a':5,'b':10,'c':20}]\r\n",
    "df = pd.DataFrame(data,index=['first','second'])\r\n",
    "print(df)"
   ],
   "outputs": [
    {
     "output_type": "stream",
     "name": "stdout",
     "text": [
      "        a   b     c\n",
      "first   1   2   NaN\n",
      "second  5  10  20.0\n"
     ]
    }
   ],
   "metadata": {}
  },
  {
   "cell_type": "code",
   "execution_count": 10,
   "source": [
    "df1 = pd.DataFrame(data,index=['first','second'], columns=['a','b'])\r\n",
    "print(df1)"
   ],
   "outputs": [
    {
     "output_type": "stream",
     "name": "stdout",
     "text": [
      "        a   b\n",
      "first   1   2\n",
      "second  5  10\n"
     ]
    }
   ],
   "metadata": {}
  },
  {
   "cell_type": "code",
   "execution_count": 14,
   "source": [
    "# Create a DataFrame from Dict of Series\r\n",
    "d = {'one':pd.Series([1,2,3,25],index=['a','b','c','d']),'two':pd.Series([1,2,3,4], index=['a','b','c','d'])}\r\n",
    "df = pd.DataFrame(d)\r\n",
    "print(df)"
   ],
   "outputs": [
    {
     "output_type": "stream",
     "name": "stdout",
     "text": [
      "   one  two\n",
      "a    1    1\n",
      "b    2    2\n",
      "c    3    3\n",
      "d   25    4\n"
     ]
    }
   ],
   "metadata": {}
  },
  {
   "cell_type": "code",
   "execution_count": 16,
   "source": [
    "# Add a column mathod1\r\n",
    "d = {'one':pd.Series([1,2,3,25],index=['a','b','c','d']),\r\n",
    "'two':pd.Series([1,2,3,4], index=['a','b','c','d']),\r\n",
    "'three':pd.Series([5,6,8,10],index=['a','b','c','d'])}\r\n",
    "df = pd.DataFrame(d)\r\n",
    "print(df)"
   ],
   "outputs": [
    {
     "output_type": "stream",
     "name": "stdout",
     "text": [
      "   one  two  three\n",
      "a    1    1      5\n",
      "b    2    2      6\n",
      "c    3    3      8\n",
      "d   25    4     10\n"
     ]
    }
   ],
   "metadata": {}
  },
  {
   "cell_type": "code",
   "execution_count": 17,
   "source": [
    "# adding a column using method2\r\n",
    "df['four'] = pd.Series([12,11,0,3], index=['a','b','c','d'])\r\n",
    "print(df)"
   ],
   "outputs": [
    {
     "output_type": "stream",
     "name": "stdout",
     "text": [
      "   one  two  three  four\n",
      "a    1    1      5    12\n",
      "b    2    2      6    11\n",
      "c    3    3      8     0\n",
      "d   25    4     10     3\n"
     ]
    }
   ],
   "metadata": {}
  }
 ],
 "metadata": {
  "orig_nbformat": 4,
  "language_info": {
   "name": "python",
   "version": "3.9.2",
   "mimetype": "text/x-python",
   "codemirror_mode": {
    "name": "ipython",
    "version": 3
   },
   "pygments_lexer": "ipython3",
   "nbconvert_exporter": "python",
   "file_extension": ".py"
  },
  "kernelspec": {
   "name": "python3",
   "display_name": "Python 3.9.2 64-bit"
  },
  "interpreter": {
   "hash": "321a562c32c1ef0f4d1bce6724f96cbf5562b75820608d2935414fe72bdf9c83"
  }
 },
 "nbformat": 4,
 "nbformat_minor": 2
}